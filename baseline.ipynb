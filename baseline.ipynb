{
 "cells": [
  {
   "cell_type": "markdown",
   "metadata": {},
   "source": [
    "# 赛题信息"
   ]
  },
  {
   "cell_type": "markdown",
   "metadata": {},
   "source": [
    ">目标：基于用户历史点击新闻文章的行为，预测用户未来点击新闻文章行为"
   ]
  },
  {
   "cell_type": "markdown",
   "metadata": {},
   "source": [
    ">数据来源：某新闻App平台的用户交互数据"
   ]
  },
  {
   "cell_type": "markdown",
   "metadata": {},
   "source": [
    ">数据集：用户点击日志、新闻文章信息数据、新闻文章embedding向量表示"
   ]
  },
  {
   "cell_type": "markdown",
   "metadata": {},
   "source": [
    ">数据量：用户30万（其中20万作为训练集、5万作为测试集A，5万作为测试集B），点击300万次、新闻文章36万篇"
   ]
  },
  {
   "cell_type": "markdown",
   "metadata": {},
   "source": [
    ">预测结果：用户点击新闻文章Top5的article_id"
   ]
  },
  {
   "cell_type": "markdown",
   "metadata": {},
   "source": [
    ">结果提交格式（csv文件）：user_id,article_1,article_2,article_3,article_4,article_5"
   ]
  },
  {
   "cell_type": "markdown",
   "metadata": {},
   "source": [
    "# 评估指标"
   ]
  },
  {
   "cell_type": "markdown",
   "metadata": {},
   "source": [
    "评价指标公式如下："
   ]
  },
  {
   "cell_type": "markdown",
   "metadata": {},
   "source": [
    "$$\n",
    "score(user) = \\sum_{k=1}^5 \\frac{s(user, k)}{k}\n",
    "$$"
   ]
  },
  {
   "cell_type": "markdown",
   "metadata": {},
   "source": [
    "对比推荐的TOP5篇新闻文章是否命中用户最后一条购买数据。如果用户1真实点击的文章为article1，即article1命中，则s(user1,1)=1,s(user1,2-5)=0,user1的预测结果score(user1)=sum(s(user1,k)/k)=1(k为预测文章的排名，1-5)"
   ]
  },
  {
   "cell_type": "markdown",
   "metadata": {},
   "source": [
    "该评价指标为命中文章推荐排名的倒数，即命中的文章推荐排名越靠前，指标值越高；越靠后，指标值越低；没有命中，则为0"
   ]
  },
  {
   "cell_type": "markdown",
   "metadata": {},
   "source": [
    "# 赛题理解"
   ]
  },
  {
   "cell_type": "markdown",
   "metadata": {},
   "source": [
    "——————————————————————————————"
   ]
  },
  {
   "cell_type": "markdown",
   "metadata": {},
   "source": [
    "# Baseline"
   ]
  },
  {
   "cell_type": "code",
   "execution_count": 24,
   "metadata": {},
   "outputs": [],
   "source": [
    "# 导入基础包\n",
    "import pandas as pd\n",
    "import numpy as np\n",
    "import time,math,os,random\n",
    "from collections import defaultdict\n",
    "from tqdm import tqdm\n",
    "import pickle\n",
    "import collections\n",
    "import warnings\n",
    "warnings.filterwarnings('ignore')"
   ]
  },
  {
   "cell_type": "markdown",
   "metadata": {},
   "source": [
    "### 定义一个节省内存的函数"
   ]
  },
  {
   "cell_type": "code",
   "execution_count": 2,
   "metadata": {},
   "outputs": [],
   "source": [
    "def reduce_mem(df):\n",
    "    starttime = time.time()\n",
    "    numerics = ['int16','int32','int64','float16','float32','float64']\n",
    "    star_mem = df.memry_usage().sum()/1024**2\n",
    "    for col in df.columns:\n",
    "        col_type=df[col].dtypes\n",
    "        if col_type in numerics:\n",
    "            c_min = df[col].min()\n",
    "            c_max = df[col].max()\n",
    "            if pd.isnull(c_min) or pd.isnull(c_max):\n",
    "                continue\n",
    "            if str(col_type)[:3] == 'int':\n",
    "                if c_min > np.iinfo(np.int8).min and c_max < np.iinfo(np.int8).max:\n",
    "                    df[col] = df[col].astype(np.int8)\n",
    "                elif c_min > np.iinfo(np.int16).min and c_max < np.iinfo(np.int16).max:\n",
    "                    df[col] = df[col].astype(np.int16)\n",
    "                elif c_min > np.iinfo(np.int32).min and c_max < np.iinfo(np.int32).max:\n",
    "                    df[col] = df[col].astype(np.int32)\n",
    "                elif c_min > np.iinfo(np.int64).min and c_max < np.iinfo(np.int64).max:\n",
    "                    df[col] = df[col].astype(np.int64)\n",
    "            else:\n",
    "                if c_min > np.iinfo(np.float16).min and c_max < np.iinfo(np.float16).max:\n",
    "                    df[col] = df[col].astype(np.float16)\n",
    "                elif c_min > np.iinfo(np.float32).min and c_max < np.iinfo(np.float32).max:\n",
    "                    df[col] = df[col].astype(np.float32)\n",
    "                else:\n",
    "                    df[col] = df[col].astype(np.float64)\n",
    "    end_mem = df.memry_usage().sum()/1024**2\n",
    "    print('—— Mem. usage dereased to {:5.2f} Mb ({:.1f}% reduction),time spend:{:2.2f} min'.format(\n",
    "        end_mem,100*(start_mem-end_mem)/start_mem),(time.time()-starttime)/60)\n",
    "    return df\n",
    "                        "
   ]
  },
  {
   "cell_type": "markdown",
   "metadata": {},
   "source": [
    "### 读取数据 "
   ]
  },
  {
   "cell_type": "code",
   "execution_count": 20,
   "metadata": {},
   "outputs": [],
   "source": [
    "data_path = '../download'\n",
    "save_path = './tmp_results'"
   ]
  },
  {
   "cell_type": "code",
   "execution_count": 4,
   "metadata": {},
   "outputs": [
    {
     "data": {
      "text/html": [
       "<div>\n",
       "<style scoped>\n",
       "    .dataframe tbody tr th:only-of-type {\n",
       "        vertical-align: middle;\n",
       "    }\n",
       "\n",
       "    .dataframe tbody tr th {\n",
       "        vertical-align: top;\n",
       "    }\n",
       "\n",
       "    .dataframe thead th {\n",
       "        text-align: right;\n",
       "    }\n",
       "</style>\n",
       "<table border=\"1\" class=\"dataframe\">\n",
       "  <thead>\n",
       "    <tr style=\"text-align: right;\">\n",
       "      <th></th>\n",
       "      <th>user_id</th>\n",
       "      <th>click_article_id</th>\n",
       "      <th>click_timestamp</th>\n",
       "      <th>click_environment</th>\n",
       "      <th>click_deviceGroup</th>\n",
       "      <th>click_os</th>\n",
       "      <th>click_country</th>\n",
       "      <th>click_region</th>\n",
       "      <th>click_referrer_type</th>\n",
       "    </tr>\n",
       "  </thead>\n",
       "  <tbody>\n",
       "    <tr>\n",
       "      <th>24</th>\n",
       "      <td>199992</td>\n",
       "      <td>272143</td>\n",
       "      <td>1507029683969</td>\n",
       "      <td>4</td>\n",
       "      <td>1</td>\n",
       "      <td>17</td>\n",
       "      <td>1</td>\n",
       "      <td>25</td>\n",
       "      <td>2</td>\n",
       "    </tr>\n",
       "    <tr>\n",
       "      <th>25</th>\n",
       "      <td>199992</td>\n",
       "      <td>348111</td>\n",
       "      <td>1507029702470</td>\n",
       "      <td>4</td>\n",
       "      <td>1</td>\n",
       "      <td>17</td>\n",
       "      <td>1</td>\n",
       "      <td>25</td>\n",
       "      <td>2</td>\n",
       "    </tr>\n",
       "    <tr>\n",
       "      <th>26</th>\n",
       "      <td>199992</td>\n",
       "      <td>299697</td>\n",
       "      <td>1507029732470</td>\n",
       "      <td>4</td>\n",
       "      <td>1</td>\n",
       "      <td>17</td>\n",
       "      <td>1</td>\n",
       "      <td>25</td>\n",
       "      <td>2</td>\n",
       "    </tr>\n",
       "    <tr>\n",
       "      <th>48</th>\n",
       "      <td>199986</td>\n",
       "      <td>5408</td>\n",
       "      <td>1507029596628</td>\n",
       "      <td>4</td>\n",
       "      <td>3</td>\n",
       "      <td>2</td>\n",
       "      <td>1</td>\n",
       "      <td>25</td>\n",
       "      <td>1</td>\n",
       "    </tr>\n",
       "    <tr>\n",
       "      <th>49</th>\n",
       "      <td>199986</td>\n",
       "      <td>272143</td>\n",
       "      <td>1507029626628</td>\n",
       "      <td>4</td>\n",
       "      <td>3</td>\n",
       "      <td>2</td>\n",
       "      <td>1</td>\n",
       "      <td>25</td>\n",
       "      <td>1</td>\n",
       "    </tr>\n",
       "  </tbody>\n",
       "</table>\n",
       "</div>"
      ],
      "text/plain": [
       "    user_id  click_article_id  click_timestamp  click_environment  \\\n",
       "24   199992            272143    1507029683969                  4   \n",
       "25   199992            348111    1507029702470                  4   \n",
       "26   199992            299697    1507029732470                  4   \n",
       "48   199986              5408    1507029596628                  4   \n",
       "49   199986            272143    1507029626628                  4   \n",
       "\n",
       "    click_deviceGroup  click_os  click_country  click_region  \\\n",
       "24                  1        17              1            25   \n",
       "25                  1        17              1            25   \n",
       "26                  1        17              1            25   \n",
       "48                  3         2              1            25   \n",
       "49                  3         2              1            25   \n",
       "\n",
       "    click_referrer_type  \n",
       "24                    2  \n",
       "25                    2  \n",
       "26                    2  \n",
       "48                    1  \n",
       "49                    1  "
      ]
     },
     "execution_count": 4,
     "metadata": {},
     "output_type": "execute_result"
    }
   ],
   "source": [
    "# debug模式，从训练集中划出一部分数据来调试代码\n",
    "def get_all_click_sample(data_path,sample_nums=10000):\n",
    "#     读取点击数据训练集\n",
    "    click_path = os.path.join(data_path,'train_click_log.csv') \n",
    "    click = pd.read_csv(click_path)\n",
    "    user = click['user_id'].unique()\n",
    "#     获取采样用户点击数据\n",
    "    sample_user = np.random.choice(user,size=sample_nums,replace=False)\n",
    "    click = click[click['user_id'].isin(sample_user)]\n",
    "    \n",
    "    click = click.drop_duplicates(['user_id','click_article_id','click_timestamp'])\n",
    "    return click\n",
    "# 样本测试\n",
    "df = get_all_click_sample(data_path=data_path)\n",
    "df.head()"
   ]
  },
  {
   "cell_type": "code",
   "execution_count": 5,
   "metadata": {},
   "outputs": [
    {
     "data": {
      "text/html": [
       "<div>\n",
       "<style scoped>\n",
       "    .dataframe tbody tr th:only-of-type {\n",
       "        vertical-align: middle;\n",
       "    }\n",
       "\n",
       "    .dataframe tbody tr th {\n",
       "        vertical-align: top;\n",
       "    }\n",
       "\n",
       "    .dataframe thead th {\n",
       "        text-align: right;\n",
       "    }\n",
       "</style>\n",
       "<table border=\"1\" class=\"dataframe\">\n",
       "  <thead>\n",
       "    <tr style=\"text-align: right;\">\n",
       "      <th></th>\n",
       "      <th>user_id</th>\n",
       "      <th>click_article_id</th>\n",
       "      <th>click_timestamp</th>\n",
       "      <th>click_environment</th>\n",
       "      <th>click_deviceGroup</th>\n",
       "      <th>click_os</th>\n",
       "      <th>click_country</th>\n",
       "      <th>click_region</th>\n",
       "      <th>click_referrer_type</th>\n",
       "    </tr>\n",
       "  </thead>\n",
       "  <tbody>\n",
       "    <tr>\n",
       "      <th>0</th>\n",
       "      <td>199999</td>\n",
       "      <td>160417</td>\n",
       "      <td>1507029570190</td>\n",
       "      <td>4</td>\n",
       "      <td>1</td>\n",
       "      <td>17</td>\n",
       "      <td>1</td>\n",
       "      <td>13</td>\n",
       "      <td>1</td>\n",
       "    </tr>\n",
       "    <tr>\n",
       "      <th>1</th>\n",
       "      <td>199999</td>\n",
       "      <td>5408</td>\n",
       "      <td>1507029571478</td>\n",
       "      <td>4</td>\n",
       "      <td>1</td>\n",
       "      <td>17</td>\n",
       "      <td>1</td>\n",
       "      <td>13</td>\n",
       "      <td>1</td>\n",
       "    </tr>\n",
       "    <tr>\n",
       "      <th>2</th>\n",
       "      <td>199999</td>\n",
       "      <td>50823</td>\n",
       "      <td>1507029601478</td>\n",
       "      <td>4</td>\n",
       "      <td>1</td>\n",
       "      <td>17</td>\n",
       "      <td>1</td>\n",
       "      <td>13</td>\n",
       "      <td>1</td>\n",
       "    </tr>\n",
       "    <tr>\n",
       "      <th>3</th>\n",
       "      <td>199998</td>\n",
       "      <td>157770</td>\n",
       "      <td>1507029532200</td>\n",
       "      <td>4</td>\n",
       "      <td>1</td>\n",
       "      <td>17</td>\n",
       "      <td>1</td>\n",
       "      <td>25</td>\n",
       "      <td>5</td>\n",
       "    </tr>\n",
       "    <tr>\n",
       "      <th>4</th>\n",
       "      <td>199998</td>\n",
       "      <td>96613</td>\n",
       "      <td>1507029671831</td>\n",
       "      <td>4</td>\n",
       "      <td>1</td>\n",
       "      <td>17</td>\n",
       "      <td>1</td>\n",
       "      <td>25</td>\n",
       "      <td>5</td>\n",
       "    </tr>\n",
       "  </tbody>\n",
       "</table>\n",
       "</div>"
      ],
      "text/plain": [
       "   user_id  click_article_id  click_timestamp  click_environment  \\\n",
       "0   199999            160417    1507029570190                  4   \n",
       "1   199999              5408    1507029571478                  4   \n",
       "2   199999             50823    1507029601478                  4   \n",
       "3   199998            157770    1507029532200                  4   \n",
       "4   199998             96613    1507029671831                  4   \n",
       "\n",
       "   click_deviceGroup  click_os  click_country  click_region  \\\n",
       "0                  1        17              1            13   \n",
       "1                  1        17              1            13   \n",
       "2                  1        17              1            13   \n",
       "3                  1        17              1            25   \n",
       "4                  1        17              1            25   \n",
       "\n",
       "   click_referrer_type  \n",
       "0                    1  \n",
       "1                    1  \n",
       "2                    1  \n",
       "3                    5  \n",
       "4                    5  "
      ]
     },
     "execution_count": 5,
     "metadata": {},
     "output_type": "execute_result"
    }
   ],
   "source": [
    "# 读取全部点击数据\n",
    "def get_all_click_data(data_path,contains_test=False):\n",
    "    '''\n",
    "    contains_test:是否读取测试数据\n",
    "    '''\n",
    "    path_train = os.path.join(data_path,'train_click_log.csv')\n",
    "    train_data = pd.read_csv(path_train)\n",
    "    if contains_test:\n",
    "        path_test = os.path.join(data_path,'testA_click_log.csv')\n",
    "        test_data = pd.read_csv(path_test)\n",
    "        data = train_data.append(test_data)\n",
    "    else:\n",
    "        data = train_data\n",
    "    data = data.drop_duplicates(['user_id','click_article_id','click_timestamp'])\n",
    "    return data\n",
    "\n",
    "train_data = get_all_click_data(data_path=data_path)\n",
    "train_data.head()"
   ]
  },
  {
   "cell_type": "markdown",
   "metadata": {},
   "source": [
    "### 获取 用户-文章-点击时间 字典"
   ]
  },
  {
   "cell_type": "code",
   "execution_count": 16,
   "metadata": {},
   "outputs": [],
   "source": [
    "# 按点击时间排序，得到用户点击文章序列 {user1:[item1:time1,item2:time2,...]...}\n",
    "def get_user_item_time(click_data):\n",
    "    click_data = click_data.sort_values('click_timestamp')\n",
    "#     这里设计很巧妙\n",
    "    def make_item_time_pair(df):\n",
    "        return list(zip(df['click_article_id'],df['click_timestamp']))\n",
    "    \n",
    "    user_item_time_df = click_data.groupby('user_id')['click_article_id','click_timestamp'].apply(\n",
    "        lambda x:make_item_time_pair(x)).reset_index().rename(columns={0:'item_time_list'})\n",
    "    user_item_time_dict = dict(zip(user_item_time_df['user_id'],user_item_time_df['item_time_list']))\n",
    "    \n",
    "    return user_item_time_dict"
   ]
  },
  {
   "cell_type": "markdown",
   "metadata": {},
   "source": [
    "### 获取点击次数最多的topK篇文章 "
   ]
  },
  {
   "cell_type": "code",
   "execution_count": 11,
   "metadata": {},
   "outputs": [],
   "source": [
    "def get_item_topk_click(click_data,k):\n",
    "    topk_click = click_data['click_article_id'].value_counts().index[:k]\n",
    "    return topk_click"
   ]
  },
  {
   "cell_type": "markdown",
   "metadata": {},
   "source": [
    "### itemcf的物品相似度计算 "
   ]
  },
  {
   "cell_type": "code",
   "execution_count": 25,
   "metadata": {},
   "outputs": [],
   "source": [
    "def itemcf_sim(df):\n",
    "    '''\n",
    "    文章与文章之间的相似性矩阵计算\n",
    "    tips：基于物品的协同过滤\n",
    "    '''\n",
    "    user_item_time_dict = get_user_item_time(df)\n",
    "    \n",
    "#     计算物品相似度\n",
    "    i2i_sim = {}\n",
    "    item_cnt = defaultdict(int)\n",
    "    for user,item_time_list in tqdm(user_item_time_dict.items()):\n",
    "        for i ,i_click_time in item_time_list:\n",
    "            item_cnt[i] += 1\n",
    "            i2i_sim.setdefault(i,{})\n",
    "            for j,j_click_time in item_time_list:\n",
    "                if(i==j):\n",
    "                    continue\n",
    "                i2i_sim[i].setdefault(j,0)\n",
    "                i2i_sim[i][j] += 1 / math.log(len(item_time_list)+1)  #点击次数越多，权重越高\n",
    "    i2i_sim_ = i2i_sim.copy()\n",
    "    for i,related_items in i2i_sim.items():\n",
    "        for j,wij in related_items.items():\n",
    "            i2i_sim_[i][j] = wij/math.sqrt(item_cnt[i]*item_cnt[j])\n",
    "            \n",
    "#     保存相似度矩阵至本地\n",
    "    pickle.dump(i2i_sim_,open(os.path.join(save_path, 'itemcf_i2i_sim.pkl'),'wb'))\n",
    "    return i2i_sim_"
   ]
  },
  {
   "cell_type": "markdown",
   "metadata": {},
   "source": [
    "相似性矩阵权重计算公式：$$\n",
    "w_ij =  {\\frac{n_j}{log(n+1)} \\cdot \\frac{1}{\\sqrt{{n_i \\cdot n_j}}}}\n",
    "$$\n",
    "其中，n表示用户的总点击次数，n_i和n_j分别表示用户点击文章i和文章j的次数。"
   ]
  },
  {
   "cell_type": "code",
   "execution_count": null,
   "metadata": {},
   "outputs": [
    {
     "name": "stderr",
     "output_type": "stream",
     "text": [
      "100%|██████████| 200000/200000 [00:15<00:00, 12726.11it/s]\n"
     ]
    }
   ],
   "source": [
    "i2i_sim = itemcf_sim(train_data)"
   ]
  },
  {
   "cell_type": "markdown",
   "metadata": {},
   "source": [
    "### itemcf的文章推荐"
   ]
  },
  {
   "cell_type": "code",
   "execution_count": 36,
   "metadata": {},
   "outputs": [],
   "source": [
    "# 基于商品的召回i2i\n",
    "def item_based_recommend(user_id,user_item_time_dict,i2i_sim,sim_item_topk,recall_item_num,item_topk_click):\n",
    "    user_hist_items = user_item_time_dict[user_id]\n",
    "    \n",
    "    item_rank = {}\n",
    "    for loc,(i,click_time) in enumerate(user_hist_items):\n",
    "        for j,wij in sorted(i2i_sim[i].items(),key=lambda x:[1],reverse=True)[:sim_item_topk]:\n",
    "            if j in user_hist_items:\n",
    "                continue\n",
    "            item_rank.setdefault(j,0)\n",
    "            item_rank[j] += wij\n",
    "    \n",
    "    if len(item_rank)<recall_item_num:\n",
    "        for i,item in enumerate(item_topk_click):\n",
    "            if item in item_rank.items():\n",
    "                continue\n",
    "            item_rank[item] = -i-100\n",
    "            if len(item_rank) == recall_item_num:\n",
    "                break\n",
    "    item_rank = sorted(item_rank.items(),key=lambda x:x[1],reverse=True)[:recall_item_num]\n",
    "    return item_rank"
   ]
  },
  {
   "cell_type": "markdown",
   "metadata": {},
   "source": [
    "### 根据物品的协同过滤，给每个用户推荐文章"
   ]
  },
  {
   "cell_type": "code",
   "execution_count": null,
   "metadata": {},
   "outputs": [
    {
     "name": "stderr",
     "output_type": "stream",
     "text": [
      " 29%|██▉       | 58960/200000 [22:35<49:26, 47.55it/s]  "
     ]
    }
   ],
   "source": [
    "# 初始化\n",
    "user_recall_items_dict = collections.defaultdict(dict)\n",
    "\n",
    "# 获取用户-文章-点击时间的字典\n",
    "user_item_time_dict = get_user_item_time(train_data)\n",
    "\n",
    "# 获取文章相似度\n",
    "i2i_sim = pickle.load(open(os.path.join(save_path, 'itemcf_i2i_sim.pkl'),'rb'))\n",
    "\n",
    "# 相似性文章的数量\n",
    "sim_item_topk = 10\n",
    "\n",
    "# 召回文章的数量\n",
    "recall_item_num = 10\n",
    "\n",
    "# 用户热度补全\n",
    "item_topk_click = get_item_topk_click(train_data,k=50)\n",
    "\n",
    "for user in tqdm(train_data['user_id'].unique()):\n",
    "    user_recall_items_dict[user] = item_based_recommend(user, user_item_time_dict, i2i_sim, \n",
    "                                                        sim_item_topk, recall_item_num, item_topk_click)\n"
   ]
  },
  {
   "cell_type": "markdown",
   "metadata": {},
   "source": [
    "### 召回字典转为df"
   ]
  },
  {
   "cell_type": "code",
   "execution_count": null,
   "metadata": {},
   "outputs": [],
   "source": [
    "# 将字典的形式转换成df\n",
    "user_item_score_list = []\n",
    "\n",
    "for user, items in tqdm(user_recall_items_dict.items()):\n",
    "    for item, score in items:\n",
    "        user_item_score_list.append([user, item, score])\n",
    "\n",
    "recall_df = pd.DataFrame(user_item_score_list, columns=['user_id', 'click_article_id', 'pred_score'])"
   ]
  },
  {
   "cell_type": "markdown",
   "metadata": {},
   "source": [
    "### 生成提交文件 "
   ]
  },
  {
   "cell_type": "code",
   "execution_count": null,
   "metadata": {},
   "outputs": [],
   "source": [
    "# 生成提交文件\n",
    "def submit(recall_df, topk=5, model_name=None):\n",
    "    recall_df = recall_df.sort_values(by=['user_id', 'pred_score'])\n",
    "    recall_df['rank'] = recall_df.groupby(['user_id'])['pred_score'].rank(ascending=False, method='first')\n",
    "    \n",
    "    # 判断是不是每个用户都有5篇文章及以上\n",
    "    tmp = recall_df.groupby('user_id').apply(lambda x: x['rank'].max())\n",
    "    assert tmp.min() >= topk\n",
    "    \n",
    "    del recall_df['pred_score']\n",
    "    submit = recall_df[recall_df['rank'] <= topk].set_index(['user_id', 'rank']).unstack(-1).reset_index()\n",
    "    \n",
    "    submit.columns = [int(col) if isinstance(col, int) else col for col in submit.columns.droplevel(0)]\n",
    "    # 按照提交格式定义列名\n",
    "    submit = submit.rename(columns={'': 'user_id', 1: 'article_1', 2: 'article_2', \n",
    "                                                  3: 'article_3', 4: 'article_4', 5: 'article_5'})\n",
    "    \n",
    "    save_name = save_path + model_name + '_' + datetime.today().strftime('%m-%d') + '.csv'\n",
    "    submit.to_csv(save_name, index=False, header=True)"
   ]
  },
  {
   "cell_type": "code",
   "execution_count": null,
   "metadata": {},
   "outputs": [],
   "source": [
    "# 获取测试集\n",
    "tst_path = os.path.join(data_path, 'testA_click_log.csv')\n",
    "tst_click = pd.read_csv(tst_path)\n",
    "tst_users = tst_click['user_id'].unique()\n",
    "\n",
    "# 从所有的召回数据中将测试集中的用户选出来\n",
    "tst_recall = recall_df[recall_df['user_id'].isin(tst_users)]\n",
    "\n",
    "# 生成提交文件\n",
    "submit(tst_recall, topk=5, model_name='itemcf_baseline')"
   ]
  },
  {
   "cell_type": "markdown",
   "metadata": {},
   "source": [
    "通过本次学习，了解了协同过滤推荐的底层原理和基本实现逻辑。在代码实现层面，也学习到了很多处理和计算的实现技巧，受益良多。"
   ]
  },
  {
   "cell_type": "code",
   "execution_count": null,
   "metadata": {},
   "outputs": [],
   "source": []
  }
 ],
 "metadata": {
  "kernelspec": {
   "display_name": "Python 3",
   "language": "python",
   "name": "python3"
  },
  "language_info": {
   "codemirror_mode": {
    "name": "ipython",
    "version": 3
   },
   "file_extension": ".py",
   "mimetype": "text/x-python",
   "name": "python",
   "nbconvert_exporter": "python",
   "pygments_lexer": "ipython3",
   "version": "3.6.5"
  }
 },
 "nbformat": 4,
 "nbformat_minor": 4
}
